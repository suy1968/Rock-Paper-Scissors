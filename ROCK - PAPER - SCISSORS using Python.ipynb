{
 "cells": [
  {
   "cell_type": "markdown",
   "metadata": {},
   "source": [
    "# SUYASH PRATAP SINGH"
   ]
  },
  {
   "cell_type": "code",
   "execution_count": 1,
   "metadata": {},
   "outputs": [],
   "source": [
    "# function to get user input value\n",
    "\n",
    "def playerInput():\n",
    "    \n",
    "    player = \"\"\n",
    "    \n",
    "    while not( player.lower() == \"r\" or player.lower() == \"p\" or player.lower() == \"s\") :\n",
    "    \n",
    "        player = input(\"\\nPlease Enter your input out of - R | P | S = \")\n",
    "    \n",
    "    return player.lower()"
   ]
  },
  {
   "cell_type": "code",
   "execution_count": 2,
   "metadata": {},
   "outputs": [
    {
     "name": "stdout",
     "output_type": "stream",
     "text": [
      "\n",
      "Please Enter your input out of - R | P | S = s\n"
     ]
    },
    {
     "data": {
      "text/plain": [
       "'s'"
      ]
     },
     "execution_count": 2,
     "metadata": {},
     "output_type": "execute_result"
    }
   ],
   "source": [
    "playerInput()"
   ]
  },
  {
   "cell_type": "code",
   "execution_count": 3,
   "metadata": {},
   "outputs": [],
   "source": [
    "# Function to generate automated Bot input\n",
    "\n",
    "import random \n",
    "\n",
    "def botInput():\n",
    "    \n",
    "    lst = ['r','s','p']\n",
    "    \n",
    "    return random.choice(lst)"
   ]
  },
  {
   "cell_type": "code",
   "execution_count": 4,
   "metadata": {},
   "outputs": [
    {
     "data": {
      "text/plain": [
       "'r'"
      ]
     },
     "execution_count": 4,
     "metadata": {},
     "output_type": "execute_result"
    }
   ],
   "source": [
    "botInput()"
   ]
  },
  {
   "cell_type": "code",
   "execution_count": 6,
   "metadata": {},
   "outputs": [],
   "source": [
    "# rules to win the match\n",
    "\n",
    "def rules(player, bot):\n",
    "\n",
    "    if player == 'r' and bot == \"r\":\n",
    "        \n",
    "        return \"draw\"\n",
    "    \n",
    "    elif player == \"s\" and bot == \"s\":\n",
    "        \n",
    "        return \"draw\"\n",
    "    \n",
    "    elif player == \"p\" and bot == \"p\":\n",
    "        \n",
    "        return \"draw\"\n",
    "    \n",
    "    elif player == \"r\" and bot == \"s\":\n",
    "        \n",
    "        return \"player\"\n",
    "    \n",
    "    elif player == \"r\" and bot == \"p\":\n",
    "        \n",
    "        return \"bot\"\n",
    "    \n",
    "    elif player == \"p\" and bot == \"r\":\n",
    "        \n",
    "        return \"player\"\n",
    "    \n",
    "    elif player == \"p\" and bot == \"s\":\n",
    "        \n",
    "        return \"bot\"\n",
    " \n",
    "    elif player == \"s\" and bot == \"p\":\n",
    "\n",
    "        return \"player\"   \n",
    "\n",
    "    elif player == \"s\" and bot == \"r\":\n",
    "        \n",
    "        return \"bot\""
   ]
  },
  {
   "cell_type": "code",
   "execution_count": 7,
   "metadata": {},
   "outputs": [
    {
     "data": {
      "text/plain": [
       "'player'"
      ]
     },
     "execution_count": 7,
     "metadata": {},
     "output_type": "execute_result"
    }
   ],
   "source": [
    "rules(\"s\",\"p\")"
   ]
  },
  {
   "cell_type": "code",
   "execution_count": 8,
   "metadata": {},
   "outputs": [],
   "source": [
    "# main function which is used to call all the other function\n",
    "\n",
    "def startGame():\n",
    "    \n",
    "    end = \"\"\n",
    "    \n",
    "    player_score = 0 \n",
    "    \n",
    "    bot_score = 0\n",
    "    \n",
    "    while end.lower() != \"n\":\n",
    "        \n",
    "        print('\\nROCK - R , PAPER - R, SCISSOR - S')\n",
    "        \n",
    "        print()\n",
    "        \n",
    "        p = playerInput()\n",
    "        \n",
    "        print('\\nPlayer Entered -', p)\n",
    "        \n",
    "        b = botInput()\n",
    "        \n",
    "        print('\\nBot Entered -', b)\n",
    "        \n",
    "        print()\n",
    "        \n",
    "        winner = rules(p, b)\n",
    "        \n",
    "        print(\"\\nWinner is -\", winner)\n",
    "        \n",
    "        print()\n",
    " \n",
    "        if winner == \"player\":\n",
    "        \n",
    "            player_score += 10\n",
    "            \n",
    "        elif winner == \"bot\":\n",
    "            \n",
    "            bot_score += 10\n",
    "            \n",
    "        else :\n",
    "            \n",
    "            player_score += 5\n",
    "            \n",
    "            bot_score += 5\n",
    "            \n",
    "        print(\"\\n-----Score Board-----\")\n",
    "        \n",
    "        print(\"\\nPLAYER -\",player_score)\n",
    "        \n",
    "        print(\"\\nBot -\",bot_score)\n",
    "        \n",
    "        print()\n",
    "        \n",
    "        end = input(\"\\nDo You want to continue ( Y/N ) - \")\n",
    "        \n",
    "        if( end.lower() == \"n\" ):\n",
    "            \n",
    "            print(\"\\nGAME OVER\")\n",
    "            \n",
    "            print(\"\\n-----FINAL SCORE BOARD-----\")\n",
    "        \n",
    "            print(\"\\nPLAYER -\",player_score)\n",
    "        \n",
    "            print(\"\\nBot -\",bot_score)"
   ]
  },
  {
   "cell_type": "code",
   "execution_count": 9,
   "metadata": {},
   "outputs": [
    {
     "name": "stdout",
     "output_type": "stream",
     "text": [
      "\n",
      "ROCK - R , PAPER - R, SCISSOR - S\n",
      "\n",
      "\n",
      "Please Enter your input out of - R | P | S = R\n",
      "\n",
      "Player Entered - r\n",
      "\n",
      "Bot Entered - r\n",
      "\n",
      "\n",
      "Winner is - draw\n",
      "\n",
      "\n",
      "-----Score Board-----\n",
      "\n",
      "PLAYER - 5\n",
      "\n",
      "Bot - 5\n",
      "\n",
      "\n",
      "Do You want to continue ( Y/N ) - y\n",
      "\n",
      "ROCK - R , PAPER - R, SCISSOR - S\n",
      "\n",
      "\n",
      "Please Enter your input out of - R | P | S = S\n",
      "\n",
      "Player Entered - s\n",
      "\n",
      "Bot Entered - r\n",
      "\n",
      "\n",
      "Winner is - bot\n",
      "\n",
      "\n",
      "-----Score Board-----\n",
      "\n",
      "PLAYER - 5\n",
      "\n",
      "Bot - 15\n",
      "\n",
      "\n",
      "Do You want to continue ( Y/N ) - n\n",
      "\n",
      "GAME OVER\n",
      "\n",
      "-----FINAL SCORE BOARD-----\n",
      "\n",
      "PLAYER - 5\n",
      "\n",
      "Bot - 15\n"
     ]
    }
   ],
   "source": [
    "startGame()"
   ]
  },
  {
   "cell_type": "markdown",
   "metadata": {},
   "source": [
    "# THANK YOU"
   ]
  }
 ],
 "metadata": {
  "kernelspec": {
   "display_name": "Python 3",
   "language": "python",
   "name": "python3"
  },
  "language_info": {
   "codemirror_mode": {
    "name": "ipython",
    "version": 3
   },
   "file_extension": ".py",
   "mimetype": "text/x-python",
   "name": "python",
   "nbconvert_exporter": "python",
   "pygments_lexer": "ipython3",
   "version": "3.8.1"
  }
 },
 "nbformat": 4,
 "nbformat_minor": 4
}
